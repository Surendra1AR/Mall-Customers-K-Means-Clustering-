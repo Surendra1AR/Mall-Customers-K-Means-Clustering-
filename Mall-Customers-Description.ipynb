{
 "cells": [
  {
   "cell_type": "markdown",
   "metadata": {},
   "source": [
    "**Data Description**:\n",
    "    \n",
    "   * The purpose of this notebook is to identify characteristics of customer segments to develop an optimal marketing strategy.\n",
    "   * K-means clustering is used to group datapoints together with certain similarities. We would then use these groupings as customer segments to understand its characteristics and how it will impact to the overall marketing strategy.\n",
    "    \n",
    "    \n",
    "**The dataset contains the following information:**\n",
    "1. CustomerID: It is the unique ID given to a customer\n",
    "2. Gender: Gender of the customer\n",
    "3. Age: The age of the customer\n",
    "4. Annual Income(k$): It is the annual income of the customer\n",
    "5. Spending Score: It is the score(out of 100) given to a customer by the mall authorities, based on the money spent and the behavior of the customer.\n"
   ]
  },
  {
   "cell_type": "code",
   "execution_count": null,
   "metadata": {},
   "outputs": [],
   "source": []
  }
 ],
 "metadata": {
  "kernelspec": {
   "display_name": "Python 3",
   "language": "python",
   "name": "python3"
  },
  "language_info": {
   "codemirror_mode": {
    "name": "ipython",
    "version": 3
   },
   "file_extension": ".py",
   "mimetype": "text/x-python",
   "name": "python",
   "nbconvert_exporter": "python",
   "pygments_lexer": "ipython3",
   "version": "3.8.5"
  }
 },
 "nbformat": 4,
 "nbformat_minor": 4
}
